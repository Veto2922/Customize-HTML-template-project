{
 "cells": [
  {
   "cell_type": "code",
   "execution_count": 14,
   "id": "ad4cf3e7",
   "metadata": {},
   "outputs": [],
   "source": [
    "from PIL import Image\n",
    "import os\n",
    "\n",
    "def reshape_images_in_folder(folder_path, new_width, new_height):\n",
    "    \"\"\"\n",
    "    Reshape all images in a folder, save them as PNG files, and remove the old images.\n",
    "\n",
    "    :param folder_path: Path to the folder containing the images.\n",
    "    :param new_width: Desired width of the reshaped images.\n",
    "    :param new_height: Desired height of the reshaped images.\n",
    "    \"\"\"\n",
    "    try:\n",
    "        # Iterate through all files in the folder\n",
    "        for filename in os.listdir(folder_path):\n",
    "            file_path = os.path.join(folder_path, filename)\n",
    "            \n",
    "            # Check if the file is an image (by extension)\n",
    "            if filename.lower().endswith(('.png', '.jpg', '.jpeg', '.bmp', '.gif', '.tiff')):\n",
    "                try:\n",
    "                    # Open the image using Pillow\n",
    "                    img = Image.open(file_path)\n",
    "                    \n",
    "                    \n",
    "                    # Create a new filename with .png extension\n",
    "                    base_name = os.path.splitext(filename)[0]  # Remove original extension\n",
    "                    new_filename = f\"{base_name}_reshaped.png\"\n",
    "                    new_file_path = os.path.join(folder_path, new_filename)\n",
    "                    \n",
    "                    # Save the reshaped image as PNG\n",
    "                    img.save(new_file_path, format=\"PNG\")\n",
    "                    print(f\"Image '{filename}' reshaped and saved as '{new_filename}'\")\n",
    "                    \n",
    "                    # Remove the old image file\n",
    "                    os.remove(file_path)\n",
    "                    print(f\"Original image '{filename}' has been deleted.\")\n",
    "                \n",
    "                except Exception as e:\n",
    "                    print(f\"Error processing file '{filename}': {e}\")\n",
    "        \n",
    "        print(\"All images have been processed and old images removed.\")\n",
    "    \n",
    "    except Exception as e:\n",
    "        print(f\"An error occurred while accessing the folder: {e}\")\n",
    "\n"
   ]
  },
  {
   "cell_type": "code",
   "execution_count": 15,
   "id": "624994f7",
   "metadata": {},
   "outputs": [
    {
     "name": "stdout",
     "output_type": "stream",
     "text": [
      "Image 'alex-suprun-ZHvM3XIOHoE-unsplash.jpg' reshaped and saved as 'alex-suprun-ZHvM3XIOHoE-unsplash_reshaped.png'\n",
      "Original image 'alex-suprun-ZHvM3XIOHoE-unsplash.jpg' has been deleted.\n",
      "Image 'alexander-hipp-iEEBWgY_6lA-unsplash.jpg' reshaped and saved as 'alexander-hipp-iEEBWgY_6lA-unsplash_reshaped.png'\n",
      "Original image 'alexander-hipp-iEEBWgY_6lA-unsplash.jpg' has been deleted.\n",
      "Image 'diego-hernandez-MSepzbKFz10-unsplash.jpg' reshaped and saved as 'diego-hernandez-MSepzbKFz10-unsplash_reshaped.png'\n",
      "Original image 'diego-hernandez-MSepzbKFz10-unsplash.jpg' has been deleted.\n",
      "Image 'imansyah-muhamad-putera-n4KewLKFOZw-unsplash.jpg' reshaped and saved as 'imansyah-muhamad-putera-n4KewLKFOZw-unsplash_reshaped.png'\n",
      "Original image 'imansyah-muhamad-putera-n4KewLKFOZw-unsplash.jpg' has been deleted.\n",
      "Image 'midas-hofstra-tidSLv-UaNs-unsplash.jpg' reshaped and saved as 'midas-hofstra-tidSLv-UaNs-unsplash_reshaped.png'\n",
      "Original image 'midas-hofstra-tidSLv-UaNs-unsplash.jpg' has been deleted.\n",
      "Image 'nicolas-horn-MTZTGvDsHFY-unsplash.jpg' reshaped and saved as 'nicolas-horn-MTZTGvDsHFY-unsplash_reshaped.png'\n",
      "Original image 'nicolas-horn-MTZTGvDsHFY-unsplash.jpg' has been deleted.\n",
      "Image 'pexels-david-garrison-1128051-2128819.jpg' reshaped and saved as 'pexels-david-garrison-1128051-2128819_reshaped.png'\n",
      "Original image 'pexels-david-garrison-1128051-2128819.jpg' has been deleted.\n",
      "Image 'pexels-hamed-gharaee-1120343-2117283.jpg' reshaped and saved as 'pexels-hamed-gharaee-1120343-2117283_reshaped.png'\n",
      "Original image 'pexels-hamed-gharaee-1120343-2117283.jpg' has been deleted.\n",
      "Image 'pexels-italo-melo-881954-2379004.jpg' reshaped and saved as 'pexels-italo-melo-881954-2379004_reshaped.png'\n",
      "Original image 'pexels-italo-melo-881954-2379004.jpg' has been deleted.\n",
      "Image 'pexels-italo-melo-881954-2379005.jpg' reshaped and saved as 'pexels-italo-melo-881954-2379005_reshaped.png'\n",
      "Original image 'pexels-italo-melo-881954-2379005.jpg' has been deleted.\n",
      "Image 'simonesda-Z0VP-OefxHw-unsplash.jpg' reshaped and saved as 'simonesda-Z0VP-OefxHw-unsplash_reshaped.png'\n",
      "Original image 'simonesda-Z0VP-OefxHw-unsplash.jpg' has been deleted.\n",
      "All images have been processed and old images removed.\n"
     ]
    }
   ],
   "source": [
    "if __name__ == \"__main__\":\n",
    "    # Folder containing the images\n",
    "    folder_path = r\"D:\\Electro Pi\\Customize-HTML-template-project\\Placeholder_template\\software_images\\100x100\"\n",
    "    \n",
    "    # Desired dimensions\n",
    "    new_width = 100\n",
    "    new_height = 100\n",
    "        \n",
    "    # Call the function to reshape all images in the folder\n",
    "    reshape_images_in_folder(folder_path, new_width, new_height)"
   ]
  },
  {
   "cell_type": "code",
   "execution_count": null,
   "id": "3deca921",
   "metadata": {},
   "outputs": [],
   "source": []
  },
  {
   "cell_type": "markdown",
   "id": "c95a8eee",
   "metadata": {},
   "source": [
    "# Remove BG"
   ]
  },
  {
   "cell_type": "code",
   "execution_count": 20,
   "id": "da69f211",
   "metadata": {},
   "outputs": [
    {
     "name": "stdout",
     "output_type": "stream",
     "text": [
      "Background removed successfully! Saved to output_image.png\n"
     ]
    }
   ],
   "source": [
    "from rembg import remove\n",
    "from PIL import Image\n",
    "\n",
    "def remove_background(input_path, output_path):\n",
    "    \"\"\"\n",
    "    Removes the background from an image and saves the result.\n",
    "\n",
    "    Args:\n",
    "        input_path (str): Path to the input image file.\n",
    "        output_path (str): Path to save the output image with the background removed.\n",
    "    \"\"\"\n",
    "    try:\n",
    "        # Open the input image\n",
    "        input_image = Image.open(input_path)\n",
    "        \n",
    "        # Remove the background\n",
    "        output_image = remove(input_image)\n",
    "        \n",
    "        # Save the output image\n",
    "        output_image.save(output_path)\n",
    "        print(f\"Background removed successfully! Saved to {output_path}\")\n",
    "    \n",
    "    except Exception as e:\n",
    "        print(f\"An error occurred: {e}\")\n",
    "\n",
    "# Example usage\n",
    "input_image_path = r\"image2.png\"  # Replace with your input image path\n",
    "output_image_path = \"output_image.png\"  # Replace with your desired output path\n",
    "\n",
    "remove_background(input_image_path, output_image_path)"
   ]
  }
 ],
 "metadata": {
  "kernelspec": {
   "display_name": "base",
   "language": "python",
   "name": "python3"
  },
  "language_info": {
   "codemirror_mode": {
    "name": "ipython",
    "version": 3
   },
   "file_extension": ".py",
   "mimetype": "text/x-python",
   "name": "python",
   "nbconvert_exporter": "python",
   "pygments_lexer": "ipython3",
   "version": "3.12.4"
  }
 },
 "nbformat": 4,
 "nbformat_minor": 5
}
