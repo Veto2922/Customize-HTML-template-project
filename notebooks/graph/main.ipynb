{
 "cells": [
  {
   "cell_type": "code",
   "execution_count": 1,
   "metadata": {},
   "outputs": [
    {
     "name": "stdout",
     "output_type": "stream",
     "text": [
      "e:\\github\\Customize-HTML-template-project\n"
     ]
    }
   ],
   "source": [
    "%cd ../.."
   ]
  },
  {
   "cell_type": "code",
   "execution_count": null,
   "metadata": {},
   "outputs": [],
   "source": [
    "from notebooks.graph.edits_scraper import reco_chain, RecoQuestionResponse"
   ]
  },
  {
   "cell_type": "code",
   "execution_count": 3,
   "metadata": {},
   "outputs": [],
   "source": [
    "with open(r'data\\test_html.html', 'r') as f:\n",
    "    html = f.read()"
   ]
  },
  {
   "cell_type": "code",
   "execution_count": 4,
   "metadata": {},
   "outputs": [],
   "source": [
    "from typing import Annotated\n",
    "from typing_extensions import TypedDict\n",
    "from langgraph.graph import StateGraph, START, END\n",
    "from langgraph.graph.message import add_messages\n",
    "from langgraph.checkpoint.memory import MemorySaver"
   ]
  },
  {
   "cell_type": "code",
   "execution_count": 5,
   "metadata": {},
   "outputs": [],
   "source": [
    "class State(TypedDict):\n",
    "    conversation: Annotated[list, add_messages]\n",
    "    response: str \n",
    "    is_conversation_finished: bool \n",
    "\n",
    "\n",
    "graph_builder = StateGraph(State)"
   ]
  },
  {
   "cell_type": "code",
   "execution_count": 6,
   "metadata": {},
   "outputs": [],
   "source": [
    "def chatbot(state: State):\n",
    "    msgs= state[\"conversation\"]\n",
    "\n",
    "    ai_response = reco_chain.invoke({\"conversation\":msgs})\n",
    "\n",
    "    return {\"conversation\": [(\"ai\",ai_response.model_dump_json())], \n",
    "            \"is_conversation_finished\":ai_response.is_conversation_finished,\n",
    "            \"response\": ai_response.response }"
   ]
  },
  {
   "cell_type": "code",
   "execution_count": 7,
   "metadata": {},
   "outputs": [
    {
     "data": {
      "text/plain": [
       "<langgraph.graph.state.StateGraph at 0x2a349448fa0>"
      ]
     },
     "execution_count": 7,
     "metadata": {},
     "output_type": "execute_result"
    }
   ],
   "source": [
    "graph_builder.add_node(\"chatbot\", chatbot)\n",
    "graph_builder.add_edge(START, \"chatbot\")\n",
    "graph_builder.add_edge(\"chatbot\", END)"
   ]
  },
  {
   "cell_type": "code",
   "execution_count": 8,
   "metadata": {},
   "outputs": [
    {
     "data": {
      "image/png": "[encoded data removed]",
      "text/plain": [
       "<IPython.core.display.Image object>"
      ]
     },
     "metadata": {},
     "output_type": "display_data"
    }
   ],
   "source": [
    "memory = MemorySaver()\n",
    "graph = graph_builder.compile(checkpointer=memory)\n",
    "from IPython.display import Image, display\n",
    "\n",
    "try:\n",
    "    display(Image(graph.get_graph().draw_mermaid_png()))\n",
    "except Exception:\n",
    "    # This requires some extra dependencies and is optional\n",
    "    pass"
   ]
  },
  {
   "cell_type": "code",
   "execution_count": 10,
   "metadata": {},
   "outputs": [],
   "source": [
    "config = {\"configurable\": {\"thread_id\": \"saleh\"}}"
   ]
  },
  {
   "cell_type": "code",
   "execution_count": 11,
   "metadata": {},
   "outputs": [
    {
     "name": "stdout",
     "output_type": "stream",
     "text": [
      "The landing page tells a compelling story, but the hero image is currently sourced from a placeholder. To make it truly shine, would you like to replace `/api/placeholder/600/400` with a specific image URL that reflects your brand or product?\n",
      "False\n"
     ]
    }
   ],
   "source": [
    "res = graph.invoke({\"conversation\":[\n",
    "    (\"user\", html)\n",
    "]},config)\n",
    "print( res[\"response\"])\n",
    "print( res[\"is_conversation_finished\"] )"
   ]
  },
  {
   "cell_type": "code",
   "execution_count": 12,
   "metadata": {},
   "outputs": [
    {
     "name": "stdout",
     "output_type": "stream",
     "text": [
      "The narrative currently features 'Quantum' as the company name. Shall we replace all instances of 'Quantum' with 'Salo7ty' to maintain brand consistency throughout the page?\n",
      "False\n"
     ]
    }
   ],
   "source": [
    "res = graph.invoke({\"conversation\":[\n",
    "    (\"user\", \"no i want to change the name of the company to salo7ty\")\n",
    "]},config)\n",
    "print( res[\"response\"] )\n",
    "print( res[\"is_conversation_finished\"] )"
   ]
  },
  {
   "cell_type": "code",
   "execution_count": 13,
   "metadata": {},
   "outputs": [
    {
     "name": "stdout",
     "output_type": "stream",
     "text": [
      "Alright, Salo7ty it is! Besides the company name, the testimonials section mentions 'TechCorp'. Should we also update 'TechCorp' to reflect a client company name more relevant to Salo7ty, or leave it as is?\n",
      "False\n"
     ]
    }
   ],
   "source": [
    "res = graph.invoke({\"conversation\":[\n",
    "    (\"user\", \"yes all\")\n",
    "]},config)\n",
    "print( res[\"response\"] )\n",
    "print( res[\"is_conversation_finished\"] )"
   ]
  },
  {
   "cell_type": "code",
   "execution_count": 14,
   "metadata": {},
   "outputs": [
    {
     "name": "stdout",
     "output_type": "stream",
     "text": [
      "Great! What name would you like to use instead of 'TechCorp' in the testimonial?\n",
      "False\n"
     ]
    }
   ],
   "source": [
    "res = graph.invoke({\"conversation\":[\n",
    "    (\"user\", \"okay yes of course\")\n",
    "]},config)\n",
    "print( res[\"response\"] )\n",
    "print( res[\"is_conversation_finished\"] )"
   ]
  },
  {
   "cell_type": "code",
   "execution_count": 15,
   "metadata": {},
   "outputs": [
    {
     "name": "stdout",
     "output_type": "stream",
     "text": [
      "None\n",
      "True\n"
     ]
    }
   ],
   "source": [
    "res = graph.invoke({\"conversation\":[\n",
    "    (\"user\", \"end\")\n",
    "]},config)\n",
    "print( res[\"response\"] )\n",
    "print( res[\"is_conversation_finished\"] )"
   ]
  },
  {
   "cell_type": "code",
   "execution_count": 25,
   "metadata": {},
   "outputs": [],
   "source": [
    "from langchain_core.messages import HumanMessage, SystemMessage, AIMessage\n",
    "import json\n",
    "\n",
    "conv_data = []\n",
    "for msg in res[\"conversation\"]:\n",
    "    role = None\n",
    "    content = None\n",
    "    if isinstance(msg, HumanMessage):\n",
    "        role = \"user\"\n",
    "        content = msg.content\n",
    "    elif isinstance(msg, SystemMessage):\n",
    "        role = \"system\"\n",
    "        content = msg.content\n",
    "    elif isinstance(msg, AIMessage):\n",
    "        role = \"ai\"\n",
    "        content = RecoQuestionResponse(**json.loads(msg.content)).response\n",
    "\n",
    "    conv_data.append((role, str(content)))"
   ]
  },
  {
   "cell_type": "code",
   "execution_count": 26,
   "metadata": {},
   "outputs": [
    {
     "data": {
      "text/plain": [
       "[('user',\n",
       "  '<!DOCTYPE html>\\n<html lang=\"en\">\\n\\n<head>\\n  <meta charset=\"UTF-8\">\\n  <meta name=\"viewport\" content=\"width=device-width, initial-scale=1.0\">\\n  <title>Modern Landing Page</title>\\n  \\n\\n<body>\\n  <!-- Header & Navigation -->\\n  <header>\\n    <div class=\"container\">\\n      <nav>\\n        <a href=\"#\" class=\"logo\">Quantum</a>\\n        <div class=\"menu-toggle\" id=\"menuToggle\">\\n          <span class=\"bar\"></span>\\n          <span class=\"bar\"></span>\\n          <span class=\"bar\"></span>\\n        </div>\\n        <div class=\"nav-links\" id=\"navLinks\">\\n          <a href=\"#features\">Features</a>\\n          <a href=\"#testimonials\">Testimonials</a>\\n          <a href=\"#pricing\">Pricing</a>\\n          <a href=\"#contact\">Contact</a>\\n        </div>\\n        <button class=\"btn\">Get Started</button>\\n      </nav>\\n    </div>\\n  </header>\\n\\n  <!-- Hero Section -->\\n  <section class=\"hero\">\\n    <div class=\"container\">\\n      <div class=\"hero-content\">\\n        <div class=\"hero-text\">\\n          <h1>Modern Solution for Your Business</h1>\\n          <p>Transform your business with our innovative platform. Increase productivity, streamline workflows, and\\n            scale your operations with ease.</p>\\n          <button class=\"btn\">Start Free Trial</button>\\n        </div>\\n        <div class=\"hero-img\">\\n          <img src=\"/api/placeholder/600/400\" alt=\"placeholder\" />\\n        </div>\\n      </div>\\n    </div>\\n  </section>\\n\\n  <!-- Features Section -->\\n  <section class=\"features\" id=\"features\">\\n    <div class=\"container\">\\n      <div class=\"section-title\">\\n        <h2>Powerful Features</h2>\\n        <p>Our platform offers everything you need to take your business to the next level.</p>\\n      </div>\\n      <div class=\"features-grid\">\\n        <div class=\"feature-card\">\\n          <div class=\"feature-icon\">✨</div>\\n          <h3>Smart Automation</h3>\\n          <p>Automate repetitive tasks and free up your team to focus on what matters most.</p>\\n        </div>\\n        <div class=\"feature-card\">\\n          <div class=\"feature-icon\">📊</div>\\n          <h3>Advanced Analytics</h3>\\n          <p>Get real-time insights and make data-driven decisions to grow your business.</p>\\n        </div>\\n        <div class=\"feature-card\">\\n          <div class=\"feature-icon\">🔒</div>\\n          <h3>Enterprise Security</h3>\\n          <p>Rest easy knowing your data is protected with the highest security standards.</p>\\n        </div>\\n      </div>\\n    </div>\\n  </section>\\n\\n  <!-- Testimonials Section -->\\n  <section class=\"testimonials\" id=\"testimonials\">\\n    <div class=\"container\">\\n      <div class=\"section-title\">\\n        <h2>What Our Clients Say</h2>\\n        <p>Trusted by thousands of businesses worldwide.</p>\\n      </div>\\n      <div class=\"testimonial-slider\">\\n        <div class=\"testimonial active\">\\n          <p class=\"testimonial-text\">\"This platform has completely transformed how we operate. Our productivity has\\n            increased by 200% since we started using it.\"</p>\\n          <p class=\"testimonial-author\">Sarah Johnson</p>\\n          <p class=\"testimonial-company\">CEO, TechCorp</p>\\n        </div>\\n        <div class=\"dots\">\\n          <div class=\"dot active\"></div>\\n          <div class=\"dot\"></div>\\n          <div class=\"dot\"></div>\\n        </div>\\n      </div>\\n    </div>\\n  </section>\\n\\n  <!-- CTA Section -->\\n  <section class=\"cta\">\\n    <div class=\"container\">\\n      <h2>Ready to Get Started?</h2>\\n      <p>Join thousands of satisfied customers and take your business to new heights.</p>\\n      <form class=\"email-form\">\\n        <input type=\"email\" placeholder=\"Enter your email\" required>\\n        <button type=\"submit\" class=\"btn btn-white\">Get Started</button>\\n      </form>\\n    </div>\\n  </section>\\n\\n  <!-- Footer -->\\n  <footer>\\n    <div class=\"container\">\\n      <div class=\"footer-content\">\\n        <div class=\"footer-column\">\\n          <h3>Quantum</h3>\\n          <p>The all-in-one solution for modern businesses looking to scale and succeed in today\\'s competitive market.\\n          </p>\\n          <div class=\"social-links\">\\n            <a href=\"#\">📱</a>\\n            <a href=\"#\">💻</a>\\n            <a href=\"#\">📧</a>\\n            <a href=\"#\">🌐</a>\\n          </div>\\n        </div>\\n        <div class=\"footer-column\">\\n          <h3>Company</h3>\\n          <ul>\\n            <li><a href=\"#\">About Us</a></li>\\n            <li><a href=\"#\">Our Team</a></li>\\n            <li><a href=\"#\">Careers</a></li>\\n            <li><a href=\"#\">Press</a></li>\\n          </ul>\\n        </div>\\n        <div class=\"footer-column\">\\n          <h3>Resources</h3>\\n          <ul>\\n            <li><a href=\"#\">Blog</a></li>\\n            <li><a href=\"#\">Guides</a></li>\\n            <li><a href=\"#\">Help Center</a></li>\\n            <li><a href=\"#\">Community</a></li>\\n          </ul>\\n        </div>\\n        <div class=\"footer-column\">\\n          <h3>Legal</h3>\\n          <ul>\\n            <li><a href=\"#\">Terms of Service</a></li>\\n            <li><a href=\"#\">Privacy Policy</a></li>\\n            <li><a href=\"#\">Cookies</a></li>\\n            <li><a href=\"#\">GDPR</a></li>\\n          </ul>\\n        </div>\\n      </div>\\n      <div class=\"footer-bottom\">\\n        <p>&copy; 2025 Quantum. All rights reserved.</p>\\n      </div>\\n    </div>\\n  </footer>\\n\\n  <script>\\n    // Mobile menu toggle\\n    const menuToggle = document.getElementById(\\'menuToggle\\');\\n    const navLinks = document.getElementById(\\'navLinks\\');\\n\\n    menuToggle.addEventListener(\\'click\\', () => {\\n      navLinks.classList.toggle(\\'active\\');\\n    });\\n\\n    // Simple testimonial slider\\n    const dots = document.querySelectorAll(\\'.dot\\');\\n    const testimonials = document.querySelectorAll(\\'.testimonial\\');\\n\\n    dots.forEach((dot, index) => {\\n      dot.addEventListener(\\'click\\', () => {\\n        // Remove active class from all dots and testimonials\\n        dots.forEach(d => d.classList.remove(\\'active\\'));\\n        testimonials.forEach(t => t.classList.remove(\\'active\\'));\\n\\n        // Add active class to clicked dot and corresponding testimonial\\n        dot.classList.add(\\'active\\');\\n        if (testimonials[index]) {\\n          testimonials[index].classList.add(\\'active\\');\\n        }\\n      });\\n    });\\n\\n    // Smooth scrolling for anchor links\\n    document.querySelectorAll(\\'a[href^=\"#\"]\\').forEach(anchor => {\\n      anchor.addEventListener(\\'click\\', function (e) {\\n        e.preventDefault();\\n\\n        const targetId = this.getAttribute(\\'href\\');\\n        if (targetId === \\'#\\') return;\\n\\n        const targetElement = document.querySelector(targetId);\\n        if (targetElement) {\\n          window.scrollTo({\\n            top: targetElement.offsetTop - 80,\\n            behavior: \\'smooth\\'\\n          });\\n\\n          // Close mobile menu if open\\n          navLinks.classList.remove(\\'active\\');\\n        }\\n      });\\n    });\\n  </script>\\n</body>\\n\\n</html>'),\n",
       " ('ai',\n",
       "  'The landing page tells a compelling story, but the hero image is currently sourced from a placeholder. To make it truly shine, would you like to replace `/api/placeholder/600/400` with a specific image URL that reflects your brand or product?'),\n",
       " ('user', 'no i want to change the name of the company to salo7ty'),\n",
       " ('ai',\n",
       "  \"The narrative currently features 'Quantum' as the company name. Shall we replace all instances of 'Quantum' with 'Salo7ty' to maintain brand consistency throughout the page?\"),\n",
       " ('user', 'yes all'),\n",
       " ('ai',\n",
       "  \"Alright, Salo7ty it is! Besides the company name, the testimonials section mentions 'TechCorp'. Should we also update 'TechCorp' to reflect a client company name more relevant to Salo7ty, or leave it as is?\"),\n",
       " ('user', 'okay yes of course'),\n",
       " ('ai',\n",
       "  \"Great! What name would you like to use instead of 'TechCorp' in the testimonial?\"),\n",
       " ('user', 'end'),\n",
       " ('ai', 'None')]"
      ]
     },
     "execution_count": 26,
     "metadata": {},
     "output_type": "execute_result"
    }
   ],
   "source": [
    "conv_data"
   ]
  },
  {
   "cell_type": "code",
   "execution_count": null,
   "metadata": {},
   "outputs": [],
   "source": [
    "from notebooks.graph.summrizer import filter_chain\n",
    "res_summerize = filter_chain.invoke({\n",
    "    \"conversation\": conv_data\n",
    "})"
   ]
  },
  {
   "cell_type": "code",
   "execution_count": 28,
   "metadata": {},
   "outputs": [
    {
     "data": {
      "text/plain": [
       "' , okay so here are the edits :\\n\\n1.  Replace all instances of \"Quantum\" with \"Salo7ty\".\\n2.  Replace \"TechCorp\" with a new client company name in the testimonial section (awaiting the new name).'"
      ]
     },
     "execution_count": 28,
     "metadata": {},
     "output_type": "execute_result"
    }
   ],
   "source": [
    "res_summerize"
   ]
  },
  {
   "cell_type": "code",
   "execution_count": null,
   "metadata": {},
   "outputs": [],
   "source": []
  }
 ],
 "metadata": {
  "kernelspec": {
   "display_name": "env310",
   "language": "python",
   "name": "python3"
  },
  "language_info": {
   "codemirror_mode": {
    "name": "ipython",
    "version": 3
   },
   "file_extension": ".py",
   "mimetype": "text/x-python",
   "name": "python",
   "nbconvert_exporter": "python",
   "pygments_lexer": "ipython3",
   "version": "3.10.16"
  }
 },
 "nbformat": 4,
 "nbformat_minor": 2
}
