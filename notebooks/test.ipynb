{
 "cells": [
  {
   "cell_type": "code",
   "execution_count": 1,
   "metadata": {},
   "outputs": [],
   "source": [
    "import os\n",
    "import json\n",
    "import re\n",
    "from dotenv import load_dotenv\n",
    "from typing import Dict, Any, List, Optional, Tuple\n",
    "from IPython.display import Image, display\n",
    "\n",
    "from langchain_core.messages import HumanMessage, SystemMessage, AIMessage\n",
    "from langchain_core.prompts import ChatPromptTemplate\n",
    "from langchain_google_genai import ChatGoogleGenerativeAI\n",
    "from langgraph.graph import StateGraph, END"
   ]
  },
  {
   "cell_type": "code",
   "execution_count": 2,
   "metadata": {},
   "outputs": [],
   "source": [
    "# Load environment variables\n",
    "load_dotenv()\n",
    "GOOGLE_API_KEY = os.getenv(\"GEMINI_API_KEY\")"
   ]
  },
  {
   "cell_type": "code",
   "execution_count": 3,
   "metadata": {},
   "outputs": [],
   "source": [
    "# Initialize the Gemini model\n",
    "llm = ChatGoogleGenerativeAI(model=\"gemini-2.0-flash\", google_api_key=GOOGLE_API_KEY)"
   ]
  },
  {
   "cell_type": "code",
   "execution_count": 5,
   "metadata": {},
   "outputs": [],
   "source": [
    "html_template = \"\"\"\n",
    "<!DOCTYPE html>\n",
    "<html>\n",
    "<head>\n",
    "    <title>{{company_name}} - Official Website</title>\n",
    "</head>\n",
    "<body>\n",
    "    <header>\n",
    "        <h1>Welcome to {{company_name}}</h1>\n",
    "        <p>{{company_tagline}}</p>\n",
    "    </header>\n",
    "    \n",
    "    <section class=\"mission\">\n",
    "        <h2>Our Mission</h2>\n",
    "        <p>{{company_mission}}</p>\n",
    "    </section>\n",
    "    \n",
    "    <section class=\"services\">\n",
    "        <h2>Our Services</h2>\n",
    "        <p>{{company_services}}</p>\n",
    "    </section>\n",
    "    \n",
    "    <footer>\n",
    "        <p>Contact us at: {{company_email}}</p>\n",
    "    </footer>\n",
    "</body>\n",
    "</html>\n",
    "\"\"\""
   ]
  },
  {
   "cell_type": "code",
   "execution_count": 14,
   "metadata": {},
   "outputs": [],
   "source": [
    "def clean_json_output(response):\n",
    "    # Remove code block markers and extract JSON\n",
    "    cleaned = re.sub(r\"```json|```\", \"\", response).strip()\n",
    "    return json.loads(cleaned)"
   ]
  },
  {
   "cell_type": "code",
   "execution_count": 15,
   "metadata": {},
   "outputs": [],
   "source": [
    "system_prompt = \"\"\"\n",
    "    You are an HTML analyzer. Your task is to identify placeholders in an HTML template that should be replaced \n",
    "    with user-specific information. Typical placeholders might be enclosed in double curly braces like {{company_name}} \n",
    "    or might appear as generic text like 'Company Mission Goes Here'.\n",
    "    \n",
    "    Analyze the HTML and return a JSON dictionary where:\n",
    "    - Keys are descriptive field names (e.g., \"company_name\", \"company_mission\")\n",
    "    - Values are initially set to null\n",
    "    \n",
    "    Return ONLY the JSON dictionary without any additional text.\n",
    "    \"\"\"\n",
    "    \n",
    "prompt = ChatPromptTemplate.from_messages([\n",
    "    (\"system\", system_prompt),\n",
    "    (\"human\", \"Analyze this HTML template and identify all placeholders:\\n\\n{html_template}\")\n",
    "])\n",
    "\n",
    "response = llm.invoke(prompt.format(html_template=html_template))\n",
    "\n",
    "if '```json' in response.content:\n",
    "    json_data = clean_json_output(response.content)"
   ]
  },
  {
   "cell_type": "code",
   "execution_count": 16,
   "metadata": {},
   "outputs": [
    {
     "data": {
      "text/plain": [
       "{'company_name': None,\n",
       " 'company_tagline': None,\n",
       " 'company_mission': None,\n",
       " 'company_services': None,\n",
       " 'company_email': None}"
      ]
     },
     "execution_count": 16,
     "metadata": {},
     "output_type": "execute_result"
    }
   ],
   "source": [
    "json_data"
   ]
  },
  {
   "cell_type": "code",
   "execution_count": 13,
   "metadata": {},
   "outputs": [
    {
     "name": "stdout",
     "output_type": "stream",
     "text": [
      "{'company_name': 'TechCorp', 'company_tagline': 'Innovating the Future', 'company_mission': 'To revolutionize technology.', 'company_services': 'AI Solutions, Cloud Computing', 'company_email': 'contact@techcorp.com'}\n"
     ]
    }
   ],
   "source": [
    "import json\n",
    "import re\n",
    "\n",
    "def clean_json_output(response):\n",
    "    # Remove code block markers and extract JSON\n",
    "    cleaned = re.sub(r\"```json|```\", \"\", response).strip()\n",
    "    return json.loads(cleaned)\n",
    "\n",
    "# Example usage\n",
    "raw_response = \"\"\"```json\n",
    "{\n",
    "  \"company_name\": \"TechCorp\",\n",
    "  \"company_tagline\": \"Innovating the Future\",\n",
    "  \"company_mission\": \"To revolutionize technology.\",\n",
    "  \"company_services\": \"AI Solutions, Cloud Computing\",\n",
    "  \"company_email\": \"contact@techcorp.com\"\n",
    "}\n",
    "```\"\"\"\n",
    "\n",
    "json_data = clean_json_output(raw_response)\n",
    "print(json_data)\n"
   ]
  },
  {
   "cell_type": "code",
   "execution_count": null,
   "metadata": {},
   "outputs": [],
   "source": []
  }
 ],
 "metadata": {
  "kernelspec": {
   "display_name": "editor",
   "language": "python",
   "name": "python3"
  },
  "language_info": {
   "codemirror_mode": {
    "name": "ipython",
    "version": 3
   },
   "file_extension": ".py",
   "mimetype": "text/x-python",
   "name": "python",
   "nbconvert_exporter": "python",
   "pygments_lexer": "ipython3",
   "version": "3.12.0"
  }
 },
 "nbformat": 4,
 "nbformat_minor": 2
}
