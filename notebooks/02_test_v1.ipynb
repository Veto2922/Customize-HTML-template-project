{
 "cells": [
  {
   "cell_type": "code",
   "execution_count": 33,
   "metadata": {},
   "outputs": [
    {
     "name": "stderr",
     "output_type": "stream",
     "text": [
      "C:\\Users\\DELL\\AppData\\Roaming\\Python\\Python312\\site-packages\\IPython\\core\\interactiveshell.py:3579: LangChainDeprecationWarning: As of langchain-core 0.3.0, LangChain uses pydantic v2 internally. The langchain_core.pydantic_v1 module was a compatibility shim for pydantic v1, and should no longer be used. Please update the code to import from Pydantic directly.\n",
      "\n",
      "For example, replace imports like: `from langchain_core.pydantic_v1 import BaseModel`\n",
      "with: `from pydantic import BaseModel`\n",
      "or the v1 compatibility namespace if you are working in a code base that has not been fully upgraded to pydantic 2 yet. \tfrom pydantic.v1 import BaseModel\n",
      "\n",
      "  exec(code_obj, self.user_global_ns, self.user_ns)\n"
     ]
    }
   ],
   "source": [
    "from langchain.prompts import PromptTemplate\n",
    "from langchain_core.prompts import ChatPromptTemplate\n",
    "from langchain_core.output_parsers.list import ListOutputParser\n",
    "from langchain_google_genai import ChatGoogleGenerativeAI\n",
    "from langchain.output_parsers import StructuredOutputParser, ResponseSchema\n",
    "from langchain_core.output_parsers import StrOutputParser , CommaSeparatedListOutputParser , ListOutputParser\n",
    "from langchain_core.output_parsers import JsonOutputParser\n",
    "from langchain_core.pydantic_v1 import BaseModel, Field\n",
    "import os\n",
    "from dotenv import load_dotenv\n",
    "\n",
    "# Load environment variables\n",
    "load_dotenv()\n",
    "GOOGLE_API_KEY = os.getenv(\"GEMINI_API_KEY\")\n",
    "\n",
    "# Initialize the Gemini model\n",
    "llm = ChatGoogleGenerativeAI(model=\"gemini-2.0-flash\", google_api_key=GOOGLE_API_KEY)"
   ]
  },
  {
   "cell_type": "code",
   "execution_count": 2,
   "metadata": {},
   "outputs": [],
   "source": [
    "with open('../test_html.html', 'r') as f:\n",
    "    html = f.read()\n",
    "\n",
    "# print(html)"
   ]
  },
  {
   "cell_type": "code",
   "execution_count": 3,
   "metadata": {},
   "outputs": [],
   "source": [
    "# Create prompt template\n",
    "prompt =ChatPromptTemplate.from_template( \"\"\"\n",
    "**Act as an expert HTML developer and content strategist.** Your role is to generate a precise and comprehensive list of key questions that a user should answer in order to fully customize the **text content** of an HTML template.  \n",
    "\n",
    "### **Instructions:**  \n",
    "1. **Analyze the provided HTML template:**  \n",
    "   - Identify all text-based elements, including headings, paragraphs, buttons, navigation links, form placeholders, and any other textual content.  \n",
    "   - Exclude non-text elements such as images, colors, fonts, and layout settings.  \n",
    "\n",
    "2. **Generate key questions:**  \n",
    "   - Focus only on **text-related customization** (e.g., wording, tone, branding consistency, and localization).  \n",
    "   - Ensure the questions guide the user in making informed choices about the **tone, clarity, and structure** of the content.  \n",
    "\n",
    "3. **Organize the questions logically:**  \n",
    "   - Begin with general content structure (e.g., page headings and main text) and move to specific elements (e.g., button labels and form placeholders).  \n",
    "   - Cover both **static text** (like headings and paragraphs) and **interactive text** (like form labels and call-to-action buttons).  \n",
    "\n",
    "4. **Limit the output to exactly 10 questions.**  \n",
    "\n",
    "### **HTML Template:**  \n",
    "```html\n",
    "{html_template}\n",
    "```  \n",
    "\n",
    "### **Output Format:**  \n",
    "- Provide the questions in a **single-line, comma-separated format**, without any additional text.  \n",
    "- Example output:  \n",
    "  ```\n",
    "  1. What should be the main heading of the page?, 2. What introductory text should appear in the hero section?, 3. What should the call-to-action button say?, ...etc\n",
    "  ```\n",
    "\n",
    "IMPORTANT: Do not use commas (,) inside your questions, as I am using CommaSeparatedListOutputParser. Instead, use a dash (-) to separate elements within a question.\n",
    "\n",
    "**Take a deep breath and work on this problem step by step.**  \n",
    "\"\"\"\n",
    ")\n",
    "\n"
   ]
  },
  {
   "cell_type": "code",
   "execution_count": 4,
   "metadata": {},
   "outputs": [],
   "source": [
    "# prompt = PromptTemplate(\n",
    "#     template=template,\n",
    "#     input_variables=[\"html_template\"]\n",
    "\n",
    "# )\n"
   ]
  },
  {
   "cell_type": "code",
   "execution_count": 5,
   "metadata": {},
   "outputs": [],
   "source": [
    "parser = CommaSeparatedListOutputParser()\n",
    "chain = prompt | llm  | parser"
   ]
  },
  {
   "cell_type": "code",
   "execution_count": 6,
   "metadata": {},
   "outputs": [],
   "source": [
    "response = chain.invoke({\n",
    "    'html_template' : html\n",
    "    })  # Invoke with a string"
   ]
  },
  {
   "cell_type": "code",
   "execution_count": 7,
   "metadata": {},
   "outputs": [
    {
     "name": "stdout",
     "output_type": "stream",
     "text": [
      "['1. What is the desired brand name- logo text for the website header and footer?', '2. What wording should be used for the main heading (H1) on the hero section of the landing page?', '3. What descriptive text should accompany the main heading in the hero section to explain the business offering?', '4. What call-to-action text should be used on the primary button in the hero section?', '5. What heading should be used for the \"Features\" section to best describe the benefits offered?', '6. What wording should be used for each of the individual feature titles- for example- Smart Automation- Advanced Analytics- Enterprise Security?', '7. What wording should be used for the \"Testimonials\" section heading to convey customer satisfaction?', '8. What is the desired wording for the call-to-action heading and supporting text in the email collection section?', '9. What placeholder text should be used in the email input field of the email collection form?', '10. What wording should be used for the navigation links (e.g.- Features- Testimonials- Pricing- Contact)?']\n"
     ]
    }
   ],
   "source": [
    "print(response)"
   ]
  },
  {
   "cell_type": "code",
   "execution_count": 8,
   "metadata": {},
   "outputs": [
    {
     "name": "stdout",
     "output_type": "stream",
     "text": [
      "1. What is the desired brand name- logo text for the website header and footer?\n",
      "2. What wording should be used for the main heading (H1) on the hero section of the landing page?\n",
      "3. What descriptive text should accompany the main heading in the hero section to explain the business offering?\n",
      "4. What call-to-action text should be used on the primary button in the hero section?\n",
      "5. What heading should be used for the \"Features\" section to best describe the benefits offered?\n",
      "6. What wording should be used for each of the individual feature titles- for example- Smart Automation- Advanced Analytics- Enterprise Security?\n",
      "7. What wording should be used for the \"Testimonials\" section heading to convey customer satisfaction?\n",
      "8. What is the desired wording for the call-to-action heading and supporting text in the email collection section?\n",
      "9. What placeholder text should be used in the email input field of the email collection form?\n",
      "10. What wording should be used for the navigation links (e.g.- Features- Testimonials- Pricing- Contact)?\n"
     ]
    }
   ],
   "source": [
    "for i in  response:    \n",
    "    print(i)"
   ]
  },
  {
   "cell_type": "markdown",
   "metadata": {},
   "source": [
    "# Html customiz chat bot"
   ]
  },
  {
   "cell_type": "code",
   "execution_count": 59,
   "metadata": {},
   "outputs": [],
   "source": [
    "# Define your desired data structure.\n",
    "class HtmlTemplite(BaseModel):\n",
    "    html_template: str = Field(description=\"Html template with updated content after customization\") \n",
    "# Set up a parser + inject instructions into the prompt template.\n",
    "parser = JsonOutputParser(pydantic_object=HtmlTemplite)"
   ]
  },
  {
   "cell_type": "code",
   "execution_count": 52,
   "metadata": {},
   "outputs": [],
   "source": [
    "# Create prompt template\n",
    "prompt =ChatPromptTemplate.from_template( \"\"\"\n",
    "**Act as an expert HTML developer and content strategist.**  \n",
    "You have extensive experience in web development and content customization, specializing in dynamically adapting HTML templates based on user preferences.  \n",
    "\n",
    "### **Objective:**  \n",
    "Your task is to analyze a given HTML template and modify its **text content** based on the responses provided by the user. The goal is to ensure that the final HTML output accurately reflects the user's preferences while maintaining structural integrity and proper formatting.  \n",
    "\n",
    "### **Process:**  \n",
    "1. **Analyze User Inputs:**  \n",
    "   - Carefully examine the provided **questions and user responses** to understand their content preferences.  \n",
    "   - Identify key phrases, themes, and context to determine what changes need to be applied to the template.  \n",
    "\n",
    "2. **Modify the HTML Template:**  \n",
    "   - Update **only the text content** within the template while preserving the existing HTML structure, including elements, attributes, and styles.  \n",
    "   - Ensure that text replacements maintain coherence and proper alignment with the template's purpose.  \n",
    "   - If any user input is unclear or missing, generate a reasonable default response that aligns with the context.  \n",
    "\n",
    "3. **Ensure Readability & Formatting:**  \n",
    "   - Maintain proper text spacing, line breaks, and formatting conventions.  \n",
    "   - If necessary, adjust the HTML markup to improve readability without altering functionality.  \n",
    "\n",
    "4. **Output the Updated HTML Template:**  \n",
    "   - Provide the final modified HTML code while keeping the structure intact.  \n",
    "   - Ensure that all user preferences are accurately reflected in the text content.  \n",
    "\n",
    "### **Inputs:**  \n",
    "#### **HTML Template:**  \n",
    "```html  \n",
    "{html_template}  \n",
    "```  \n",
    "\n",
    "#### **Questions and User Responses:**  \n",
    "{Q_A_list}  \n",
    "\n",
    "### **Expected Output:**  \n",
    "A fully updated HTML template with text content modified according to the user's answers, ensuring clarity, relevance, and consistency.  \n",
    "Your html code should be start with body <body> tag and end with body tag </body>.\n",
    "please answer in json like below:\n",
    "```json\n",
    "{{\n",
    "  \"html_template\": \"<body>Updated HTML code here...</body>\"\n",
    "}}\n",
    "```\n",
    "\n",
    "{format_instructions}\n",
    "\n",
    "Take a deep breath and work on this problem step by step.  \n",
    "\n",
    "\n",
    "\"\"\",\n",
    "partial_variables={\"format_instructions\": parser.get_format_instructions()}\n",
    ")\n",
    "\n"
   ]
  },
  {
   "cell_type": "code",
   "execution_count": 53,
   "metadata": {},
   "outputs": [
    {
     "data": {
      "text/plain": [
       "'The output should be formatted as a JSON instance that conforms to the JSON schema below.\\n\\nAs an example, for the schema {\"properties\": {\"foo\": {\"title\": \"Foo\", \"description\": \"a list of strings\", \"type\": \"array\", \"items\": {\"type\": \"string\"}}}, \"required\": [\"foo\"]}\\nthe object {\"foo\": [\"bar\", \"baz\"]} is a well-formatted instance of the schema. The object {\"properties\": {\"foo\": [\"bar\", \"baz\"]}} is not well-formatted.\\n\\nHere is the output schema:\\n```\\n{\"properties\": {\"html_template\": {\"title\": \"Html Template\", \"description\": \"Html template with updated content after customization\", \"type\": \"string\"}}, \"required\": [\"html_template\"]}\\n```'"
      ]
     },
     "execution_count": 53,
     "metadata": {},
     "output_type": "execute_result"
    }
   ],
   "source": [
    "parser.get_format_instructions()"
   ]
  },
  {
   "cell_type": "code",
   "execution_count": 54,
   "metadata": {},
   "outputs": [],
   "source": [
    "html_customiz_chain = prompt | llm  | parser "
   ]
  },
  {
   "cell_type": "code",
   "execution_count": 55,
   "metadata": {},
   "outputs": [
    {
     "data": {
      "text/plain": [
       "{'What is the desired brand name- logo text for the website header and footer?': 'TechNova',\n",
       " 'What wording should be used for the main heading (H1) on the hero section of the landing page?': 'Revolutionizing Your Digital Experience',\n",
       " 'What descriptive text should accompany the main heading in the hero section to explain the business offering?': 'Empower your business with cutting-edge solutions designed to streamline operations and maximize efficiency.',\n",
       " 'What call-to-action text should be used on the primary button in the hero section?': 'Get Started Today',\n",
       " \"What heading should be used for the 'Features' section to best describe the benefits offered?\": 'Why Choose TechNova?',\n",
       " 'What wording should be used for each of the individual feature titles- for example- Smart Automation- Advanced Analytics- Enterprise Security?': ['Smart Automation',\n",
       "  'Advanced Analytics',\n",
       "  'Enterprise Security',\n",
       "  'Seamless Integration'],\n",
       " \"What wording should be used for the 'Testimonials' section heading to convey customer satisfaction?\": 'What Our Clients Say',\n",
       " 'What is the desired wording for the call-to-action heading and supporting text in the email collection section?': {'heading': 'Stay Updated with Our Latest Innovations',\n",
       "  'text': 'Subscribe to our newsletter for exclusive insights, updates, and special offers.'},\n",
       " 'What placeholder text should be used in the email input field of the email collection form?': 'Abdelrahman.m2922@gmail.com',\n",
       " 'What wording should be used for the navigation links (e.g.- Features- Testimonials- Pricing- Contact)?': ['Features',\n",
       "  'Testimonials',\n",
       "  'Pricing',\n",
       "  'Contact']}"
      ]
     },
     "execution_count": 55,
     "metadata": {},
     "output_type": "execute_result"
    }
   ],
   "source": [
    "website_content = {\n",
    "    \"What is the desired brand name- logo text for the website header and footer?\": \"TechNova\",\n",
    "    \"What wording should be used for the main heading (H1) on the hero section of the landing page?\": \"Revolutionizing Your Digital Experience\",\n",
    "    \"What descriptive text should accompany the main heading in the hero section to explain the business offering?\": \"Empower your business with cutting-edge solutions designed to streamline operations and maximize efficiency.\",\n",
    "    \"What call-to-action text should be used on the primary button in the hero section?\": \"Get Started Today\",\n",
    "    \"What heading should be used for the 'Features' section to best describe the benefits offered?\": \"Why Choose TechNova?\",\n",
    "    \"What wording should be used for each of the individual feature titles- for example- Smart Automation- Advanced Analytics- Enterprise Security?\": [\n",
    "        \"Smart Automation\",\n",
    "        \"Advanced Analytics\",\n",
    "        \"Enterprise Security\",\n",
    "        \"Seamless Integration\"\n",
    "    ],\n",
    "    \"What wording should be used for the 'Testimonials' section heading to convey customer satisfaction?\": \"What Our Clients Say\",\n",
    "    \"What is the desired wording for the call-to-action heading and supporting text in the email collection section?\": {\n",
    "        \"heading\": \"Stay Updated with Our Latest Innovations\",\n",
    "        \"text\": \"Subscribe to our newsletter for exclusive insights, updates, and special offers.\"\n",
    "    },\n",
    "    \"What placeholder text should be used in the email input field of the email collection form?\": \"Abdelrahman.m2922@gmail.com\",\n",
    "    \"What wording should be used for the navigation links (e.g.- Features- Testimonials- Pricing- Contact)?\": [\n",
    "        \"Features\",\n",
    "        \"Testimonials\",\n",
    "        \"Pricing\",\n",
    "        \"Contact\"\n",
    "    ]\n",
    "}\n",
    "\n",
    "website_content\n"
   ]
  },
  {
   "cell_type": "code",
   "execution_count": 56,
   "metadata": {},
   "outputs": [],
   "source": [
    "response = html_customiz_chain.invoke({\n",
    "    'html_template' : html,\n",
    "    'Q_A_list' : website_content\n",
    "    })"
   ]
  },
  {
   "cell_type": "code",
   "execution_count": 63,
   "metadata": {},
   "outputs": [
    {
     "data": {
      "text/plain": [
       "'{\"html_template\": \"<body>\\\\n  <!-- Header & Navigation -->\\\\n  <header>\\\\n    <div class=\\\\\"container\\\\\">\\\\n      <nav>\\\\n        <a href=\\\\\"#\\\\\" class=\\\\\"logo\\\\\">TechNova</a>\\\\n        <div class=\\\\\"menu-toggle\\\\\" id=\\\\\"menuToggle\\\\\">\\\\n          <span class=\\\\\"bar\\\\\"></span>\\\\n          <span class=\\\\\"bar\\\\\"></span>\\\\n          <span class=\\\\\"bar\\\\\"></span>\\\\n        </div>\\\\n        <div class=\\\\\"nav-links\\\\\" id=\\\\\"navLinks\\\\\">\\\\n          <a href=\\\\\"#features\\\\\">Features</a>\\\\n          <a href=\\\\\"#testimonials\\\\\">Testimonials</a>\\\\n          <a href=\\\\\"#pricing\\\\\">Pricing</a>\\\\n          <a href=\\\\\"#contact\\\\\">Contact</a>\\\\n        </div>\\\\n        <button class=\\\\\"btn\\\\\">Get Started</button>\\\\n      </nav>\\\\n    </div>\\\\n  </header>\\\\n\\\\n  <!-- Hero Section -->\\\\n  <section class=\\\\\"hero\\\\\">\\\\n    <div class=\\\\\"container\\\\\">\\\\n      <div class=\\\\\"hero-content\\\\\">\\\\n        <div class=\\\\\"hero-text\\\\\">\\\\n          <h1>Revolutionizing Your Digital Experience</h1>\\\\n          <p>Empower your business with cutting-edge solutions designed to streamline operations and maximize efficiency.</p>\\\\n          <button class=\\\\\"btn\\\\\">Get Started Today</button>\\\\n        </div>\\\\n        <div class=\\\\\"hero-img\\\\\">\\\\n          <img src=\\\\\"/api/placeholder/600/400\\\\\" alt=\\\\\"placeholder\\\\\" />\\\\n        </div>\\\\n      </div>\\\\n    </div>\\\\n  </section>\\\\n\\\\n  <!-- Features Section -->\\\\n  <section class=\\\\\"features\\\\\" id=\\\\\"features\\\\\">\\\\n    <div class=\\\\\"container\\\\\">\\\\n      <div class=\\\\\"section-title\\\\\">\\\\n        <h2>Why Choose TechNova?</h2>\\\\n        <p>Our platform offers everything you need to take your business to the next level.</p>\\\\n      </div>\\\\n      <div class=\\\\\"features-grid\\\\\">\\\\n        <div class=\\\\\"feature-card\\\\\">\\\\n          <div class=\\\\\"feature-icon\\\\\">\\\\u2728</div>\\\\n          <h3>Smart Automation</h3>\\\\n          <p>Automate repetitive tasks and free up your team to focus on what matters most.</p>\\\\n        </div>\\\\n        <div class=\\\\\"feature-card\\\\\">\\\\n          <div class=\\\\\"feature-icon\\\\\">\\\\ud83d\\\\udcca</div>\\\\n          <h3>Advanced Analytics</h3>\\\\n          <p>Get real-time insights and make data-driven decisions to grow your business.</p>\\\\n        </div>\\\\n        <div class=\\\\\"feature-card\\\\\">\\\\n          <div class=\\\\\"feature-icon\\\\\">\\\\ud83d\\\\udd12</div>\\\\n          <h3>Enterprise Security</h3>\\\\n          <p>Rest easy knowing your data is protected with the highest security standards.</p>\\\\n        </div>\\\\n        <div class=\\\\\"feature-card\\\\\">\\\\n          <div class=\\\\\"feature-icon\\\\\">\\\\ud83d\\\\udd17</div>\\\\n          <h3>Seamless Integration</h3>\\\\n          <p>Integrate with your existing tools and workflows for maximum efficiency.</p>\\\\n        </div>\\\\n      </div>\\\\n    </div>\\\\n  </section>\\\\n\\\\n  <!-- Testimonials Section -->\\\\n  <section class=\\\\\"testimonials\\\\\" id=\\\\\"testimonials\\\\\">\\\\n    <div class=\\\\\"container\\\\\">\\\\n      <div class=\\\\\"section-title\\\\\">\\\\n        <h2>What Our Clients Say</h2>\\\\n        <p>Trusted by thousands of businesses worldwide.</p>\\\\n      </div>\\\\n      <div class=\\\\\"testimonial-slider\\\\\">\\\\n        <div class=\\\\\"testimonial active\\\\\">\\\\n          <p class=\\\\\"testimonial-text\\\\\">\\\\\"This platform has completely transformed how we operate. Our productivity has\\\\n            increased by 200% since we started using it.\\\\\"</p>\\\\n          <p class=\\\\\"testimonial-author\\\\\">Sarah Johnson</p>\\\\n          <p class=\\\\\"testimonial-company\\\\\">CEO, TechCorp</p>\\\\n        </div>\\\\n        <div class=\\\\\"dots\\\\\">\\\\n          <div class=\\\\\"dot active\\\\\"></div>\\\\n          <div class=\\\\\"dot\\\\\"></div>\\\\n          <div class=\\\\\"dot\\\\\"></div>\\\\n        </div>\\\\n      </div>\\\\n    </div>\\\\n  </section>\\\\n\\\\n  <!-- CTA Section -->\\\\n  <section class=\\\\\"cta\\\\\">\\\\n    <div class=\\\\\"container\\\\\">\\\\n      <h2>Stay Updated with Our Latest Innovations</h2>\\\\n      <p>Subscribe to our newsletter for exclusive insights, updates, and special offers.</p>\\\\n      <form class=\\\\\"email-form\\\\\">\\\\n        <input type=\\\\\"email\\\\\" placeholder=\\\\\"Abdelrahman.m2922@gmail.com\\\\\" required>\\\\n        <button type=\\\\\"submit\\\\\" class=\\\\\"btn btn-white\\\\\">Get Started</button>\\\\n      </form>\\\\n    </div>\\\\n  </section>\\\\n\\\\n  <!-- Footer -->\\\\n  <footer>\\\\n    <div class=\\\\\"container\\\\\">\\\\n      <div class=\\\\\"footer-content\\\\\">\\\\n        <div class=\\\\\"footer-column\\\\\">\\\\n          <h3>TechNova</h3>\\\\n          <p>The all-in-one solution for modern businesses looking to scale and succeed in today\\'s competitive market.\\\\n          </p>\\\\n          <div class=\\\\\"social-links\\\\\">\\\\n            <a href=\\\\\"#\\\\\">\\\\ud83d\\\\udcf1</a>\\\\n            <a href=\\\\\"#\\\\\">\\\\ud83d\\\\udcbb</a>\\\\n            <a href=\\\\\"#\\\\\">\\\\ud83d\\\\udce7</a>\\\\n            <a href=\\\\\"#\\\\\">\\\\ud83c\\\\udf10</a>\\\\n          </div>\\\\n        </div>\\\\n        <div class=\\\\\"footer-column\\\\\">\\\\n          <h3>Company</h3>\\\\n          <ul>\\\\n            <li><a href=\\\\\"#\\\\\">About Us</a></li>\\\\n            <li><a href=\\\\\"#\\\\\">Our Team</a></li>\\\\n            <li><a href=\\\\\"#\\\\\">Careers</a></li>\\\\n            <li><a href=\\\\\"#\\\\\">Press</a></li>\\\\n          </ul>\\\\n        </div>\\\\n        <div class=\\\\\"footer-column\\\\\">\\\\n          <h3>Resources</h3>\\\\n          <ul>\\\\n            <li><a href=\\\\\"#\\\\\">Blog</a></li>\\\\n            <li><a href=\\\\\"#\\\\\">Guides</a></li>\\\\n            <li><a href=\\\\\"#\\\\\">Help Center</a></li>\\\\n            <li><a href=\\\\\"#\\\\\">Community</a></li>\\\\n          </ul>\\\\n        </div>\\\\n        <div class=\\\\\"footer-column\\\\\">\\\\n          <h3>Legal</h3>\\\\n          <ul>\\\\n            <li><a href=\\\\\"#\\\\\">Terms of Service</a></li>\\\\n            <li><a href=\\\\\"#\\\\\">Privacy Policy</a></li>\\\\n            <li><a href=\\\\\"#\\\\\">Cookies</a></li>\\\\n            <li><a href=\\\\\"#\\\\\">GDPR</a></li>\\\\n          </ul>\\\\n        </div>\\\\n      </div>\\\\n      <div class=\\\\\"footer-bottom\\\\\">\\\\n        <p>&copy; 2025 TechNova. All rights reserved.</p>\\\\n      </div>\\\\n    </div>\\\\n  </footer>\\\\n\\\\n  <script>\\\\n    // Mobile menu toggle\\\\n    const menuToggle = document.getElementById(\\'menuToggle\\');\\\\n    const navLinks = document.getElementById(\\'navLinks\\');\\\\n\\\\n    menuToggle.addEventListener(\\'click\\', () => {\\\\n      navLinks.classList.toggle(\\'active\\');\\\\n    });\\\\n\\\\n    // Simple testimonial slider\\\\n    const dots = document.querySelectorAll(\\'.dot\\');\\\\n    const testimonials = document.querySelectorAll(\\'.testimonial\\');\\\\n\\\\n    dots.forEach((dot, index) => {\\\\n      dot.addEventListener(\\'click\\', () => {\\\\n        // Remove active class from all dots and testimonials\\\\n        dots.forEach(d => d.classList.remove(\\'active\\'));\\\\n        testimonials.forEach(t => t.classList.remove(\\'active\\'));\\\\n\\\\n        // Add active class to clicked dot and corresponding testimonial\\\\n        dot.classList.add(\\'active\\');\\\\n        if (testimonials[index]) {\\\\n          testimonials[index].classList.add(\\'active\\');\\\\n        }\\\\n      });\\\\n    });\\\\n\\\\n    // Smooth scrolling for anchor links\\\\n    document.querySelectorAll(\\'a[href^=\\\\\"#\\\\\"]\\').forEach(anchor => {\\\\n      anchor.addEventListener(\\'click\\', function (e) {\\\\n        e.preventDefault();\\\\n\\\\n        const targetId = this.getAttribute(\\'href\\');\\\\n        if (targetId === \\'#\\') return;\\\\n\\\\n        const targetElement = document.querySelector(targetId);\\\\n        if (targetElement) {\\\\n          window.scrollTo({\\\\n            top: targetElement.offsetTop - 80,\\\\n            behavior: \\'smooth\\'\\\\n          });\\\\n\\\\n          // Close mobile menu if open\\\\n          navLinks.classList.remove(\\'active\\');\\\\n        }\\\\n      });\\\\n    });\\\\n  </script>\\\\n</body>\"}'"
      ]
     },
     "execution_count": 63,
     "metadata": {},
     "output_type": "execute_result"
    }
   ],
   "source": [
    "import json\n",
    "json.dumps(response)"
   ]
  },
  {
   "cell_type": "code",
   "execution_count": 58,
   "metadata": {},
   "outputs": [
    {
     "name": "stdout",
     "output_type": "stream",
     "text": [
      "<body>\n",
      "  <!-- Header & Navigation -->\n",
      "  <header>\n",
      "    <div class=\"container\">\n",
      "      <nav>\n",
      "        <a href=\"#\" class=\"logo\">TechNova</a>\n",
      "        <div class=\"menu-toggle\" id=\"menuToggle\">\n",
      "          <span class=\"bar\"></span>\n",
      "          <span class=\"bar\"></span>\n",
      "          <span class=\"bar\"></span>\n",
      "        </div>\n",
      "        <div class=\"nav-links\" id=\"navLinks\">\n",
      "          <a href=\"#features\">Features</a>\n",
      "          <a href=\"#testimonials\">Testimonials</a>\n",
      "          <a href=\"#pricing\">Pricing</a>\n",
      "          <a href=\"#contact\">Contact</a>\n",
      "        </div>\n",
      "        <button class=\"btn\">Get Started</button>\n",
      "      </nav>\n",
      "    </div>\n",
      "  </header>\n",
      "\n",
      "  <!-- Hero Section -->\n",
      "  <section class=\"hero\">\n",
      "    <div class=\"container\">\n",
      "      <div class=\"hero-content\">\n",
      "        <div class=\"hero-text\">\n",
      "          <h1>Revolutionizing Your Digital Experience</h1>\n",
      "          <p>Empower your business with cutting-edge solutions designed to streamline operations and maximize efficiency.</p>\n",
      "          <button class=\"btn\">Get Started Today</button>\n",
      "        </div>\n",
      "        <div class=\"hero-img\">\n",
      "          <img src=\"/api/placeholder/600/400\" alt=\"placeholder\" />\n",
      "        </div>\n",
      "      </div>\n",
      "    </div>\n",
      "  </section>\n",
      "\n",
      "  <!-- Features Section -->\n",
      "  <section class=\"features\" id=\"features\">\n",
      "    <div class=\"container\">\n",
      "      <div class=\"section-title\">\n",
      "        <h2>Why Choose TechNova?</h2>\n",
      "        <p>Our platform offers everything you need to take your business to the next level.</p>\n",
      "      </div>\n",
      "      <div class=\"features-grid\">\n",
      "        <div class=\"feature-card\">\n",
      "          <div class=\"feature-icon\">✨</div>\n",
      "          <h3>Smart Automation</h3>\n",
      "          <p>Automate repetitive tasks and free up your team to focus on what matters most.</p>\n",
      "        </div>\n",
      "        <div class=\"feature-card\">\n",
      "          <div class=\"feature-icon\">📊</div>\n",
      "          <h3>Advanced Analytics</h3>\n",
      "          <p>Get real-time insights and make data-driven decisions to grow your business.</p>\n",
      "        </div>\n",
      "        <div class=\"feature-card\">\n",
      "          <div class=\"feature-icon\">🔒</div>\n",
      "          <h3>Enterprise Security</h3>\n",
      "          <p>Rest easy knowing your data is protected with the highest security standards.</p>\n",
      "        </div>\n",
      "        <div class=\"feature-card\">\n",
      "          <div class=\"feature-icon\">🔗</div>\n",
      "          <h3>Seamless Integration</h3>\n",
      "          <p>Integrate with your existing tools and workflows for maximum efficiency.</p>\n",
      "        </div>\n",
      "      </div>\n",
      "    </div>\n",
      "  </section>\n",
      "\n",
      "  <!-- Testimonials Section -->\n",
      "  <section class=\"testimonials\" id=\"testimonials\">\n",
      "    <div class=\"container\">\n",
      "      <div class=\"section-title\">\n",
      "        <h2>What Our Clients Say</h2>\n",
      "        <p>Trusted by thousands of businesses worldwide.</p>\n",
      "      </div>\n",
      "      <div class=\"testimonial-slider\">\n",
      "        <div class=\"testimonial active\">\n",
      "          <p class=\"testimonial-text\">\"This platform has completely transformed how we operate. Our productivity has\n",
      "            increased by 200% since we started using it.\"</p>\n",
      "          <p class=\"testimonial-author\">Sarah Johnson</p>\n",
      "          <p class=\"testimonial-company\">CEO, TechCorp</p>\n",
      "        </div>\n",
      "        <div class=\"dots\">\n",
      "          <div class=\"dot active\"></div>\n",
      "          <div class=\"dot\"></div>\n",
      "          <div class=\"dot\"></div>\n",
      "        </div>\n",
      "      </div>\n",
      "    </div>\n",
      "  </section>\n",
      "\n",
      "  <!-- CTA Section -->\n",
      "  <section class=\"cta\">\n",
      "    <div class=\"container\">\n",
      "      <h2>Stay Updated with Our Latest Innovations</h2>\n",
      "      <p>Subscribe to our newsletter for exclusive insights, updates, and special offers.</p>\n",
      "      <form class=\"email-form\">\n",
      "        <input type=\"email\" placeholder=\"Abdelrahman.m2922@gmail.com\" required>\n",
      "        <button type=\"submit\" class=\"btn btn-white\">Get Started</button>\n",
      "      </form>\n",
      "    </div>\n",
      "  </section>\n",
      "\n",
      "  <!-- Footer -->\n",
      "  <footer>\n",
      "    <div class=\"container\">\n",
      "      <div class=\"footer-content\">\n",
      "        <div class=\"footer-column\">\n",
      "          <h3>TechNova</h3>\n",
      "          <p>The all-in-one solution for modern businesses looking to scale and succeed in today's competitive market.\n",
      "          </p>\n",
      "          <div class=\"social-links\">\n",
      "            <a href=\"#\">📱</a>\n",
      "            <a href=\"#\">💻</a>\n",
      "            <a href=\"#\">📧</a>\n",
      "            <a href=\"#\">🌐</a>\n",
      "          </div>\n",
      "        </div>\n",
      "        <div class=\"footer-column\">\n",
      "          <h3>Company</h3>\n",
      "          <ul>\n",
      "            <li><a href=\"#\">About Us</a></li>\n",
      "            <li><a href=\"#\">Our Team</a></li>\n",
      "            <li><a href=\"#\">Careers</a></li>\n",
      "            <li><a href=\"#\">Press</a></li>\n",
      "          </ul>\n",
      "        </div>\n",
      "        <div class=\"footer-column\">\n",
      "          <h3>Resources</h3>\n",
      "          <ul>\n",
      "            <li><a href=\"#\">Blog</a></li>\n",
      "            <li><a href=\"#\">Guides</a></li>\n",
      "            <li><a href=\"#\">Help Center</a></li>\n",
      "            <li><a href=\"#\">Community</a></li>\n",
      "          </ul>\n",
      "        </div>\n",
      "        <div class=\"footer-column\">\n",
      "          <h3>Legal</h3>\n",
      "          <ul>\n",
      "            <li><a href=\"#\">Terms of Service</a></li>\n",
      "            <li><a href=\"#\">Privacy Policy</a></li>\n",
      "            <li><a href=\"#\">Cookies</a></li>\n",
      "            <li><a href=\"#\">GDPR</a></li>\n",
      "          </ul>\n",
      "        </div>\n",
      "      </div>\n",
      "      <div class=\"footer-bottom\">\n",
      "        <p>&copy; 2025 TechNova. All rights reserved.</p>\n",
      "      </div>\n",
      "    </div>\n",
      "  </footer>\n",
      "\n",
      "  <script>\n",
      "    // Mobile menu toggle\n",
      "    const menuToggle = document.getElementById('menuToggle');\n",
      "    const navLinks = document.getElementById('navLinks');\n",
      "\n",
      "    menuToggle.addEventListener('click', () => {\n",
      "      navLinks.classList.toggle('active');\n",
      "    });\n",
      "\n",
      "    // Simple testimonial slider\n",
      "    const dots = document.querySelectorAll('.dot');\n",
      "    const testimonials = document.querySelectorAll('.testimonial');\n",
      "\n",
      "    dots.forEach((dot, index) => {\n",
      "      dot.addEventListener('click', () => {\n",
      "        // Remove active class from all dots and testimonials\n",
      "        dots.forEach(d => d.classList.remove('active'));\n",
      "        testimonials.forEach(t => t.classList.remove('active'));\n",
      "\n",
      "        // Add active class to clicked dot and corresponding testimonial\n",
      "        dot.classList.add('active');\n",
      "        if (testimonials[index]) {\n",
      "          testimonials[index].classList.add('active');\n",
      "        }\n",
      "      });\n",
      "    });\n",
      "\n",
      "    // Smooth scrolling for anchor links\n",
      "    document.querySelectorAll('a[href^=\"#\"]').forEach(anchor => {\n",
      "      anchor.addEventListener('click', function (e) {\n",
      "        e.preventDefault();\n",
      "\n",
      "        const targetId = this.getAttribute('href');\n",
      "        if (targetId === '#') return;\n",
      "\n",
      "        const targetElement = document.querySelector(targetId);\n",
      "        if (targetElement) {\n",
      "          window.scrollTo({\n",
      "            top: targetElement.offsetTop - 80,\n",
      "            behavior: 'smooth'\n",
      "          });\n",
      "\n",
      "          // Close mobile menu if open\n",
      "          navLinks.classList.remove('active');\n",
      "        }\n",
      "      });\n",
      "    });\n",
      "  </script>\n",
      "</body>\n"
     ]
    }
   ],
   "source": [
    "print(response['html_template'])\n",
    "    "
   ]
  },
  {
   "cell_type": "code",
   "execution_count": null,
   "metadata": {},
   "outputs": [],
   "source": []
  }
 ],
 "metadata": {
  "kernelspec": {
   "display_name": "base",
   "language": "python",
   "name": "python3"
  },
  "language_info": {
   "codemirror_mode": {
    "name": "ipython",
    "version": 3
   },
   "file_extension": ".py",
   "mimetype": "text/x-python",
   "name": "python",
   "nbconvert_exporter": "python",
   "pygments_lexer": "ipython3",
   "version": "3.12.4"
  }
 },
 "nbformat": 4,
 "nbformat_minor": 2
}
